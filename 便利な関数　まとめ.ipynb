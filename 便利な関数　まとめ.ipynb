{
 "cells": [
  {
   "cell_type": "code",
   "execution_count": 7,
   "metadata": {},
   "outputs": [
    {
     "data": {
      "text/html": [
       "        <script type=\"text/javascript\">\n",
       "        window.PlotlyConfig = {MathJaxConfig: 'local'};\n",
       "        if (window.MathJax) {MathJax.Hub.Config({SVG: {font: \"STIX-Web\"}});}\n",
       "        if (typeof require !== 'undefined') {\n",
       "        require.undef(\"plotly\");\n",
       "        requirejs.config({\n",
       "            paths: {\n",
       "                'plotly': ['https://cdn.plot.ly/plotly-latest.min']\n",
       "            }\n",
       "        });\n",
       "        require(['plotly'], function(Plotly) {\n",
       "            window._Plotly = Plotly;\n",
       "        });\n",
       "        }\n",
       "        </script>\n",
       "        "
      ]
     },
     "metadata": {},
     "output_type": "display_data"
    }
   ],
   "source": [
    "from plotly.offline import init_notebook_mode, iplot\n",
    "from wordcloud import WordCloud\n",
    "import plotly.graph_objs as go\n",
    "import matplotlib.pyplot as plt\n",
    "import chart_studio.plotly as py\n",
    "from plotly import tools\n",
    "from datetime import date\n",
    "import pandas as pd\n",
    "import numpy as np \n",
    "import seaborn as sns\n",
    "import random \n",
    "import warnings\n",
    "warnings.filterwarnings(\"ignore\")\n",
    "#connectedをTrueにすると、PlotlyのJavascriptをインターネットから取得するようになります。\n",
    "init_notebook_mode(connected=True)\n",
    "import pandas_profiling as pdp"
   ]
  },
  {
   "cell_type": "code",
   "execution_count": 8,
   "metadata": {},
   "outputs": [
    {
     "name": "stdout",
     "output_type": "stream",
     "text": [
      "Name: chart-studio\r\n",
      "Version: 1.0.0\r\n",
      "Summary: Utilities for interfacing with plotly's Chart Studio\r\n",
      "Home-page: https://plot.ly/python/\r\n",
      "Author: Chris P\r\n",
      "Author-email: chris@plot.ly\r\n",
      "License: MIT\r\n",
      "Location: /anaconda3/lib/python3.5/site-packages\r\n",
      "Requires: requests, six, plotly, retrying\r\n",
      "Required-by: \r\n"
     ]
    }
   ],
   "source": [
    "!pip show chart-studio"
   ]
  },
  {
   "cell_type": "code",
   "execution_count": 11,
   "metadata": {},
   "outputs": [
    {
     "name": "stdout",
     "output_type": "stream",
     "text": [
      "pip 19.2.3 from /anaconda3/lib/python3.5/site-packages/pip (python 3.5)\r\n"
     ]
    }
   ],
   "source": [
    "!pip3 -V"
   ]
  },
  {
   "cell_type": "code",
   "execution_count": null,
   "metadata": {},
   "outputs": [],
   "source": []
  },
  {
   "cell_type": "code",
   "execution_count": 9,
   "metadata": {},
   "outputs": [
    {
     "name": "stdout",
     "output_type": "stream",
     "text": [
      "['', '/anaconda3/lib/python35.zip', '/anaconda3/lib/python3.5', '/anaconda3/lib/python3.5/plat-darwin', '/anaconda3/lib/python3.5/lib-dynload', '/Users/hasegawatakashikana/.local/lib/python3.5/site-packages', '/anaconda3/lib/python3.5/site-packages', '/anaconda3/lib/python3.5/site-packages/aeosa', '/anaconda3/lib/python3.5/site-packages/IPython/extensions', '/Users/hasegawatakashikana/.ipython']\n"
     ]
    }
   ],
   "source": [
    "import sys\n",
    "# print(sys.version)\n",
    "# print(sys.prefix)\n",
    "print(sys.path)"
   ]
  },
  {
   "cell_type": "code",
   "execution_count": 3,
   "metadata": {},
   "outputs": [],
   "source": [
    "#常に全てのカラムを表示\n",
    "pd.options.display.max_columns = None"
   ]
  },
  {
   "cell_type": "code",
   "execution_count": null,
   "metadata": {},
   "outputs": [],
   "source": [
    "#欠損数を確認。\n",
    "data.isnull().sum()"
   ]
  },
  {
   "cell_type": "code",
   "execution_count": 5,
   "metadata": {},
   "outputs": [],
   "source": [
    "import chart_studio.plotly"
   ]
  },
  {
   "cell_type": "code",
   "execution_count": 2,
   "metadata": {},
   "outputs": [],
   "source": [
    "def bar_hor(df, col, title, color, w=None, h=None, lm=0, limit=100, return_trace=False, rev=False, xlb = False):\n",
    "    \"\"\"\n",
    "    横向き棒グラフ作成関数\n",
    "    df:  表示するデータ\n",
    "    col: 表示する列名\n",
    "    title: タイトル\n",
    "    color: 色\n",
    "    w=None:　横の長さ \n",
    "    h=None: 　たての長さ\n",
    "    lm=0: レイアウト？\n",
    "    limit=100: unique値が多すぎた時に何個表示するか\n",
    "    return_trace=False: この関数のReturnが表か数値かを示す（数値なら他のとこで使う）\n",
    "    rev=False: limitで取ってくる個数を最初の方から取るか最後からとるか\n",
    "    xlb = False: 各バーの説明\n",
    "    \"\"\"\n",
    "    cnt_srs = df[col].value_counts()\n",
    "    yy = cnt_srs.head(limit).index[::-1] \n",
    "    print(yy)\n",
    "    xx = cnt_srs.head(limit).values[::-1] \n",
    "    if rev:\n",
    "        yy = cnt_srs.tail(limit).index[::-1] \n",
    "        xx = cnt_srs.tail(limit).values[::-1] \n",
    "    if xlb:\n",
    "        trace = go.Bar(y=xlb, x=xx, orientation = 'h', marker=dict(color=color))\n",
    "    else:\n",
    "        trace = go.Bar(y=yy, x=xx, orientation = 'h', marker=dict(color=color))\n",
    "    if return_trace:\n",
    "        return trace \n",
    "    layout = dict(title=title, margin=dict(l=lm), width=w, height=h)\n",
    "    data = [trace]\n",
    "    fig = go.Figure(data=data, layout=layout)\n",
    "    iplot(fig)"
   ]
  },
  {
   "cell_type": "code",
   "execution_count": 3,
   "metadata": {},
   "outputs": [],
   "source": [
    "def gp(df,col,y, title):\n",
    "    \"\"\"\n",
    "    グループ化棒グラフを表示\n",
    "    df:  使用するデータ\n",
    "    col: 表示する列\n",
    "    y : 目標値の列（今回は中身が1か0）\n",
    "    title: 図のタイトル\n",
    "    \"\"\"\n",
    "    df1 = df[df[y] == 1]\n",
    "    df0 = df[df[y] == 0]\n",
    "    a1 = df1[col].value_counts()\n",
    "    b1 = df0[col].value_counts()\n",
    "\n",
    "    trace1 = go.Bar(x=a1.index, y=a1.values, name='{} : 1'.format(y), marker=dict(color=\"#44ff54\"))\n",
    "    trace2 = go.Bar(x=b1.index, y=b1.values, name='{} : 0'.format(y), marker=dict(color=\"#ff4444\"))\n",
    "\n",
    "    data = [trace1, trace2]\n",
    "    layout = go.Layout(barmode='group', height=300, title = title)\n",
    "\n",
    "    fig = go.Figure(data=data, layout=layout)\n",
    "    iplot(fig, filename='grouped-bar')\n",
    "\n"
   ]
  },
  {
   "cell_type": "code",
   "execution_count": null,
   "metadata": {},
   "outputs": [],
   "source": [
    "# カテゴリ変数を取得する関数\n",
    "def _get_categorical_features(df):\n",
    "    feats = [col for col in list(df.columns) if df[col].dtype == 'object']\n",
    "    return feats\n",
    "\n",
    "# カテゴリ変数をファクトライズ (整数に置換)する関数\n",
    "def _factorize_categoricals(df, cats):\n",
    "    for col in cats:\n",
    "        df[col], _ = pd.factorize(df[col])\n",
    "    return df \n",
    "\n",
    "# カテゴリ変数のダミー変数 (二値変数化)を作成する関数\n",
    "def _get_dummies(df, cats):\n",
    "    for col in cats:\n",
    "        df = pd.concat([df, pd.get_dummies(df[col], prefix=col)], axis=1)\n",
    "    return df "
   ]
  },
  {
   "cell_type": "code",
   "execution_count": null,
   "metadata": {},
   "outputs": [],
   "source": [
    "\n",
    "df['Open Date'] = pd.to_datetime(df['Open Date'], format='%m/%d/%Y') "
   ]
  },
  {
   "cell_type": "code",
   "execution_count": null,
   "metadata": {},
   "outputs": [],
   "source": [
    "#欠損値の割合及び数を求める\n",
    "total_cells = np.product(train_transaction[column].shape)\n",
    "total_missing = missing_values_count.sum()"
   ]
  }
 ],
 "metadata": {
  "kernelspec": {
   "display_name": "Python 3",
   "language": "python",
   "name": "python3"
  },
  "language_info": {
   "codemirror_mode": {
    "name": "ipython",
    "version": 3
   },
   "file_extension": ".py",
   "mimetype": "text/x-python",
   "name": "python",
   "nbconvert_exporter": "python",
   "pygments_lexer": "ipython3",
   "version": "3.5.6"
  }
 },
 "nbformat": 4,
 "nbformat_minor": 2
}
